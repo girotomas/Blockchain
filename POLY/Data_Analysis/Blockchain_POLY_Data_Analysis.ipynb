{
 "cells": [
  {
   "cell_type": "code",
   "execution_count": 1,
   "metadata": {
    "colab": {},
    "colab_type": "code",
    "id": "Q7vNM0zWOo0N"
   },
   "outputs": [],
   "source": [
    "import pandas as pd\n",
    "from datetime import datetime\n",
    "import matplotlib.pyplot as plt\n",
    "import numpy as np\n",
    "import statsmodels.api as sm"
   ]
  },
  {
   "cell_type": "markdown",
   "metadata": {},
   "source": [
    "# Links \n",
    "<a href='#0'>0) Presentation of the data<a/>\n",
    "    \n",
    "<a href='#1'>1) Treatment of the data<a/>\n",
    "\n",
    "<a href='#2'>2) Data Analysis<a/>\n"
   ]
  },
  {
   "cell_type": "markdown",
   "metadata": {},
   "source": [
    "<a id='0'><a/>\n",
    "# 0) Presentation of the data"
   ]
  },
  {
   "cell_type": "code",
   "execution_count": 2,
   "metadata": {
    "colab": {
     "base_uri": "https://localhost:8080/",
     "height": 382
    },
    "colab_type": "code",
    "id": "Q9VW8f9QOqYk",
    "outputId": "22626211-52bb-442a-cb35-633da680e6aa"
   },
   "outputs": [],
   "source": [
    "# We import the transaction data\n",
    "trans=pd.read_csv('external_trans.csv', names=['time','value' ])"
   ]
  },
  {
   "cell_type": "code",
   "execution_count": 3,
   "metadata": {
    "colab": {},
    "colab_type": "code",
    "id": "U3zu4VlNPCZm"
   },
   "outputs": [],
   "source": [
    "# We import the price data\n",
    "price=pd.read_csv('POLY_price.csv')"
   ]
  },
  {
   "cell_type": "code",
   "execution_count": 4,
   "metadata": {},
   "outputs": [],
   "source": [
    "price=price.loc[:,['close', 'time']]"
   ]
  },
  {
   "cell_type": "markdown",
   "metadata": {},
   "source": [
    "We have imported two dataframes. `price` and `trans`. Containing the transaction data and the price data of the coin Polymath."
   ]
  },
  {
   "cell_type": "code",
   "execution_count": 5,
   "metadata": {},
   "outputs": [
    {
     "data": {
      "text/html": [
       "<div>\n",
       "<style scoped>\n",
       "    .dataframe tbody tr th:only-of-type {\n",
       "        vertical-align: middle;\n",
       "    }\n",
       "\n",
       "    .dataframe tbody tr th {\n",
       "        vertical-align: top;\n",
       "    }\n",
       "\n",
       "    .dataframe thead th {\n",
       "        text-align: right;\n",
       "    }\n",
       "</style>\n",
       "<table border=\"1\" class=\"dataframe\">\n",
       "  <thead>\n",
       "    <tr style=\"text-align: right;\">\n",
       "      <th></th>\n",
       "      <th>time</th>\n",
       "      <th>value</th>\n",
       "    </tr>\n",
       "  </thead>\n",
       "  <tbody>\n",
       "    <tr>\n",
       "      <th>0</th>\n",
       "      <td>2018-02-12 15:54:29+00:00</td>\n",
       "      <td>3.000000e+21</td>\n",
       "    </tr>\n",
       "    <tr>\n",
       "      <th>1</th>\n",
       "      <td>2018-02-12 16:06:46+00:00</td>\n",
       "      <td>1.500000e+21</td>\n",
       "    </tr>\n",
       "    <tr>\n",
       "      <th>2</th>\n",
       "      <td>2018-07-31 11:31:42+00:00</td>\n",
       "      <td>1.085375e+24</td>\n",
       "    </tr>\n",
       "    <tr>\n",
       "      <th>3</th>\n",
       "      <td>2018-07-31 11:31:50+00:00</td>\n",
       "      <td>5.387435e+23</td>\n",
       "    </tr>\n",
       "    <tr>\n",
       "      <th>4</th>\n",
       "      <td>2018-07-31 11:32:09+00:00</td>\n",
       "      <td>3.716889e+23</td>\n",
       "    </tr>\n",
       "  </tbody>\n",
       "</table>\n",
       "</div>"
      ],
      "text/plain": [
       "                        time         value\n",
       "0  2018-02-12 15:54:29+00:00  3.000000e+21\n",
       "1  2018-02-12 16:06:46+00:00  1.500000e+21\n",
       "2  2018-07-31 11:31:42+00:00  1.085375e+24\n",
       "3  2018-07-31 11:31:50+00:00  5.387435e+23\n",
       "4  2018-07-31 11:32:09+00:00  3.716889e+23"
      ]
     },
     "execution_count": 5,
     "metadata": {},
     "output_type": "execute_result"
    }
   ],
   "source": [
    "trans.head()"
   ]
  },
  {
   "cell_type": "markdown",
   "metadata": {},
   "source": [
    "`trans` contains the transaction data. Namely the timestamps of the transactions between February 2018 and October 2019, and the amount of the transaction in number of POLY coins."
   ]
  },
  {
   "cell_type": "markdown",
   "metadata": {},
   "source": [
    "`price` contains the price data for polymath. The data is composed of the close value of POLY in ethereum on a hourly rate."
   ]
  },
  {
   "cell_type": "code",
   "execution_count": 6,
   "metadata": {
    "scrolled": false
   },
   "outputs": [
    {
     "data": {
      "text/html": [
       "<div>\n",
       "<style scoped>\n",
       "    .dataframe tbody tr th:only-of-type {\n",
       "        vertical-align: middle;\n",
       "    }\n",
       "\n",
       "    .dataframe tbody tr th {\n",
       "        vertical-align: top;\n",
       "    }\n",
       "\n",
       "    .dataframe thead th {\n",
       "        text-align: right;\n",
       "    }\n",
       "</style>\n",
       "<table border=\"1\" class=\"dataframe\">\n",
       "  <thead>\n",
       "    <tr style=\"text-align: right;\">\n",
       "      <th></th>\n",
       "      <th>close</th>\n",
       "      <th>time</th>\n",
       "    </tr>\n",
       "  </thead>\n",
       "  <tbody>\n",
       "    <tr>\n",
       "      <th>0</th>\n",
       "      <td>0.000261</td>\n",
       "      <td>1563267600</td>\n",
       "    </tr>\n",
       "    <tr>\n",
       "      <th>1</th>\n",
       "      <td>0.000261</td>\n",
       "      <td>1563271200</td>\n",
       "    </tr>\n",
       "    <tr>\n",
       "      <th>2</th>\n",
       "      <td>0.000264</td>\n",
       "      <td>1563274800</td>\n",
       "    </tr>\n",
       "    <tr>\n",
       "      <th>3</th>\n",
       "      <td>0.000280</td>\n",
       "      <td>1563278400</td>\n",
       "    </tr>\n",
       "    <tr>\n",
       "      <th>4</th>\n",
       "      <td>0.000272</td>\n",
       "      <td>1563282000</td>\n",
       "    </tr>\n",
       "  </tbody>\n",
       "</table>\n",
       "</div>"
      ],
      "text/plain": [
       "      close        time\n",
       "0  0.000261  1563267600\n",
       "1  0.000261  1563271200\n",
       "2  0.000264  1563274800\n",
       "3  0.000280  1563278400\n",
       "4  0.000272  1563282000"
      ]
     },
     "execution_count": 6,
     "metadata": {},
     "output_type": "execute_result"
    }
   ],
   "source": [
    "price.head()"
   ]
  },
  {
   "cell_type": "markdown",
   "metadata": {},
   "source": [
    "<a id='1'><a/>\n",
    "\n",
    "# 1) Treatment of the data"
   ]
  },
  {
   "cell_type": "code",
   "execution_count": 7,
   "metadata": {
    "colab": {},
    "colab_type": "code",
    "id": "Yer8Y3yHS09n"
   },
   "outputs": [],
   "source": [
    "# We convert the price dates into datetime objects\n",
    "price.time=price.time.apply(lambda x: datetime.fromtimestamp(x))"
   ]
  },
  {
   "cell_type": "code",
   "execution_count": 8,
   "metadata": {
    "colab": {},
    "colab_type": "code",
    "id": "iyZVu8MVU7t7"
   },
   "outputs": [],
   "source": [
    "# We sort the values by date and recreate the index.\n",
    "price.sort_values('time', inplace=True)\n",
    "price = price.reset_index(drop=True)"
   ]
  },
  {
   "cell_type": "code",
   "execution_count": 9,
   "metadata": {
    "colab": {},
    "colab_type": "code",
    "id": "lNRjVX8ZPsew"
   },
   "outputs": [],
   "source": [
    "# We convert the transaction times to datetime objects.\n",
    "trans.time=trans.time.apply(lambda x: datetime.strptime(x[:-6],'%Y-%m-%d %H:%M:%S'))"
   ]
  },
  {
   "cell_type": "code",
   "execution_count": 10,
   "metadata": {},
   "outputs": [],
   "source": [
    "# We compute the returns of the closing prices\n",
    "price.loc[:,'returns']= (price.close.shift()-price.close)/price.close"
   ]
  },
  {
   "cell_type": "code",
   "execution_count": 11,
   "metadata": {
    "scrolled": true
   },
   "outputs": [],
   "source": [
    "# We normalize the returns of the closing prices\n",
    "price.loc[:,'returns']= (price.returns-price.returns.mean())/price.returns.std()"
   ]
  },
  {
   "cell_type": "code",
   "execution_count": 12,
   "metadata": {},
   "outputs": [
    {
     "data": {
      "text/html": [
       "<div>\n",
       "<style scoped>\n",
       "    .dataframe tbody tr th:only-of-type {\n",
       "        vertical-align: middle;\n",
       "    }\n",
       "\n",
       "    .dataframe tbody tr th {\n",
       "        vertical-align: top;\n",
       "    }\n",
       "\n",
       "    .dataframe thead th {\n",
       "        text-align: right;\n",
       "    }\n",
       "</style>\n",
       "<table border=\"1\" class=\"dataframe\">\n",
       "  <thead>\n",
       "    <tr style=\"text-align: right;\">\n",
       "      <th></th>\n",
       "      <th>count</th>\n",
       "      <th>sum</th>\n",
       "    </tr>\n",
       "    <tr>\n",
       "      <th>time</th>\n",
       "      <th></th>\n",
       "      <th></th>\n",
       "    </tr>\n",
       "  </thead>\n",
       "  <tbody>\n",
       "    <tr>\n",
       "      <th>(2018-12-22 22:00:00, 2018-12-22 23:00:00]</th>\n",
       "      <td>0</td>\n",
       "      <td>0.000000e+00</td>\n",
       "    </tr>\n",
       "    <tr>\n",
       "      <th>(2019-05-24 22:00:00, 2019-05-24 23:00:00]</th>\n",
       "      <td>1</td>\n",
       "      <td>2.089750e+21</td>\n",
       "    </tr>\n",
       "    <tr>\n",
       "      <th>(2019-04-07 19:00:00, 2019-04-07 20:00:00]</th>\n",
       "      <td>1</td>\n",
       "      <td>1.744249e+21</td>\n",
       "    </tr>\n",
       "    <tr>\n",
       "      <th>(2019-03-08 08:00:00, 2019-03-08 09:00:00]</th>\n",
       "      <td>2</td>\n",
       "      <td>9.968280e+22</td>\n",
       "    </tr>\n",
       "    <tr>\n",
       "      <th>(2019-04-13 06:00:00, 2019-04-13 07:00:00]</th>\n",
       "      <td>1</td>\n",
       "      <td>1.162800e+23</td>\n",
       "    </tr>\n",
       "  </tbody>\n",
       "</table>\n",
       "</div>"
      ],
      "text/plain": [
       "                                            count           sum\n",
       "time                                                           \n",
       "(2018-12-22 22:00:00, 2018-12-22 23:00:00]      0  0.000000e+00\n",
       "(2019-05-24 22:00:00, 2019-05-24 23:00:00]      1  2.089750e+21\n",
       "(2019-04-07 19:00:00, 2019-04-07 20:00:00]      1  1.744249e+21\n",
       "(2019-03-08 08:00:00, 2019-03-08 09:00:00]      2  9.968280e+22\n",
       "(2019-04-13 06:00:00, 2019-04-13 07:00:00]      1  1.162800e+23"
      ]
     },
     "execution_count": 12,
     "metadata": {},
     "output_type": "execute_result"
    }
   ],
   "source": [
    "# We create bins of one hour intervals and we aggregate the transactions in the bins\n",
    "cut = pd.cut(trans.time, bins= price.time, duplicates='drop')\n",
    "trans_cut=trans.groupby(cut)['value'].aggregate(['count','sum'])\n",
    "\n",
    "# We show 5 examples of intervals for readability\n",
    "trans_cut.sample(5)"
   ]
  },
  {
   "cell_type": "code",
   "execution_count": 13,
   "metadata": {},
   "outputs": [],
   "source": [
    "# We normalize the transaction volume per hour\n",
    "trans_cut.loc[:,'sum']= ( trans_cut['sum']-trans_cut['sum'].mean() ) / trans_cut['sum'].std()"
   ]
  },
  {
   "cell_type": "code",
   "execution_count": 14,
   "metadata": {},
   "outputs": [],
   "source": [
    "# We transform time from an index into a column in the dataframe\n",
    "trans_cut.reset_index(level=0, inplace=True)"
   ]
  },
  {
   "cell_type": "code",
   "execution_count": 15,
   "metadata": {},
   "outputs": [],
   "source": [
    "# We create a curated dataframe with the merged data\n",
    "data = pd.DataFrame({'volume':trans_cut['sum'].shift(-1),\n",
    "                    'returns':price.returns, \n",
    "                    'date':price.time})"
   ]
  },
  {
   "cell_type": "code",
   "execution_count": 16,
   "metadata": {},
   "outputs": [
    {
     "data": {
      "text/html": [
       "<div>\n",
       "<style scoped>\n",
       "    .dataframe tbody tr th:only-of-type {\n",
       "        vertical-align: middle;\n",
       "    }\n",
       "\n",
       "    .dataframe tbody tr th {\n",
       "        vertical-align: top;\n",
       "    }\n",
       "\n",
       "    .dataframe thead th {\n",
       "        text-align: right;\n",
       "    }\n",
       "</style>\n",
       "<table border=\"1\" class=\"dataframe\">\n",
       "  <thead>\n",
       "    <tr style=\"text-align: right;\">\n",
       "      <th></th>\n",
       "      <th>date</th>\n",
       "      <th>returns</th>\n",
       "      <th>volume</th>\n",
       "    </tr>\n",
       "  </thead>\n",
       "  <tbody>\n",
       "    <tr>\n",
       "      <th>0</th>\n",
       "      <td>2018-05-25 19:00:00</td>\n",
       "      <td>NaN</td>\n",
       "      <td>-0.196579</td>\n",
       "    </tr>\n",
       "    <tr>\n",
       "      <th>1</th>\n",
       "      <td>2018-05-25 20:00:00</td>\n",
       "      <td>-2.610448</td>\n",
       "      <td>-0.196579</td>\n",
       "    </tr>\n",
       "    <tr>\n",
       "      <th>2</th>\n",
       "      <td>2018-05-25 21:00:00</td>\n",
       "      <td>1.088491</td>\n",
       "      <td>-0.196579</td>\n",
       "    </tr>\n",
       "    <tr>\n",
       "      <th>3</th>\n",
       "      <td>2018-05-25 22:00:00</td>\n",
       "      <td>0.727910</td>\n",
       "      <td>-0.196579</td>\n",
       "    </tr>\n",
       "    <tr>\n",
       "      <th>4</th>\n",
       "      <td>2018-05-25 23:00:00</td>\n",
       "      <td>-0.704423</td>\n",
       "      <td>-0.196579</td>\n",
       "    </tr>\n",
       "  </tbody>\n",
       "</table>\n",
       "</div>"
      ],
      "text/plain": [
       "                 date   returns    volume\n",
       "0 2018-05-25 19:00:00       NaN -0.196579\n",
       "1 2018-05-25 20:00:00 -2.610448 -0.196579\n",
       "2 2018-05-25 21:00:00  1.088491 -0.196579\n",
       "3 2018-05-25 22:00:00  0.727910 -0.196579\n",
       "4 2018-05-25 23:00:00 -0.704423 -0.196579"
      ]
     },
     "execution_count": 16,
     "metadata": {},
     "output_type": "execute_result"
    }
   ],
   "source": [
    "# We show an example of the merged data. Data contains the houly returns of the price of polymath\n",
    "# and the volume of the transactions in the preceding 1 hour interval (both normalized).\n",
    "data.head()"
   ]
  },
  {
   "cell_type": "code",
   "execution_count": 17,
   "metadata": {},
   "outputs": [],
   "source": [
    "# We remove the rows where one value is missing\n",
    "data=data.dropna()"
   ]
  },
  {
   "cell_type": "code",
   "execution_count": 19,
   "metadata": {
    "scrolled": false
   },
   "outputs": [],
   "source": [
    "# We observe that there is no transaction volume for the first 1600 values\n",
    "# and we drop the first 1600 values of data. This is until february 2019.\n",
    "data.volume.values[:20]\n",
    "data=data[1600:]\n",
    "# We reset the indexes\n",
    "data=data.reset_index(drop=True)"
   ]
  },
  {
   "cell_type": "code",
   "execution_count": 20,
   "metadata": {},
   "outputs": [],
   "source": [
    "#There are two extreme values in the returns that are explained\n",
    "# by a single strange value at 2019-08-11 03:00:00\n",
    "#     display(price[10614:10619])\n",
    "#     display(data[abs(data.returns)>=20])"
   ]
  },
  {
   "cell_type": "code",
   "execution_count": 21,
   "metadata": {},
   "outputs": [],
   "source": [
    "# We drop the 2 rows with crazy returns\n",
    "data=data.drop([9015,9016], axis=0)"
   ]
  },
  {
   "cell_type": "code",
   "execution_count": 66,
   "metadata": {},
   "outputs": [],
   "source": [
    "# We compute the daily volume of transactions to plot it and we normalize it\n",
    "daily_volume = data.resample('D', on='date').sum()['volume'] \n",
    "daily_volume = (daily_volume-daily_volume.mean())/ daily_volume.std()\n",
    "daily_volume_days = data.resample('D', on='date').sum().index"
   ]
  },
  {
   "cell_type": "markdown",
   "metadata": {},
   "source": [
    "<a id='2'><a/>\n",
    "# 2) Data analysis"
   ]
  },
  {
   "cell_type": "code",
   "execution_count": 68,
   "metadata": {
    "scrolled": false
   },
   "outputs": [
    {
     "data": {
      "text/plain": [
       "Text(0,0.5,'Normalized volume')"
      ]
     },
     "execution_count": 68,
     "metadata": {},
     "output_type": "execute_result"
    },
    {
     "data": {
      "image/png": "[encoded data removed]",
      "text/plain": [
       "<Figure size 432x288 with 1 Axes>"
      ]
     },
     "metadata": {
      "needs_background": "light"
     },
     "output_type": "display_data"
    },
    {
     "data": {
      "image/png": "[encoded data removed]",
      "text/plain": [
       "<Figure size 432x288 with 1 Axes>"
      ]
     },
     "metadata": {
      "needs_background": "light"
     },
     "output_type": "display_data"
    },
    {
     "data": {
      "image/png": "[encoded data removed]",
      "text/plain": [
       "<Figure size 432x288 with 1 Axes>"
      ]
     },
     "metadata": {
      "needs_background": "light"
     },
     "output_type": "display_data"
    }
   ],
   "source": [
    "# We plot the transaction volume per hour and the returns\n",
    "plt.plot(data.date,data.returns)\n",
    "plt.title('Normalized returns of Poly')\n",
    "plt.figure()\n",
    "plt.plot(data.date, data.volume)\n",
    "plt.title('Hourly volume of the transactions to Binance')\n",
    "plt.ylabel('Normalized volume')\n",
    "plt.figure()\n",
    "plt.plot(daily_volume_days, daily_volume)\n",
    "plt.title('Daily volume of the transactions to Binance')\n",
    "plt.ylabel('Normalized volume')"
   ]
  },
  {
   "cell_type": "code",
   "execution_count": 70,
   "metadata": {},
   "outputs": [
    {
     "name": "stdout",
     "output_type": "stream",
     "text": [
      "                            OLS Regression Results                            \n",
      "==============================================================================\n",
      "Dep. Variable:                      y   R-squared:                       0.000\n",
      "Model:                            OLS   Adj. R-squared:                 -0.000\n",
      "Method:                 Least Squares   F-statistic:                    0.1004\n",
      "Date:                Sat, 12 Oct 2019   Prob (F-statistic):              0.751\n",
      "Time:                        19:45:03   Log-Likelihood:                -12668.\n",
      "No. Observations:               10395   AIC:                         2.534e+04\n",
      "Df Residuals:                   10393   BIC:                         2.535e+04\n",
      "Df Model:                           1                                         \n",
      "Covariance Type:            nonrobust                                         \n",
      "==============================================================================\n",
      "                 coef    std err          t      P>|t|      [0.025      0.975]\n",
      "------------------------------------------------------------------------------\n",
      "const         -0.0011      0.008     -0.142      0.887      -0.017       0.015\n",
      "x1             0.0001      0.000      0.317      0.751      -0.001       0.001\n",
      "==============================================================================\n",
      "Omnibus:                     1952.597   Durbin-Watson:                   2.275\n",
      "Prob(Omnibus):                  0.000   Jarque-Bera (JB):            50790.074\n",
      "Skew:                          -0.181   Prob(JB):                         0.00\n",
      "Kurtosis:                      13.823   Cond. No.                         17.4\n",
      "==============================================================================\n",
      "\n",
      "Warnings:\n",
      "[1] Standard Errors assume that the covariance matrix of the errors is correctly specified.\n"
     ]
    }
   ],
   "source": [
    "# Let's use the python library statsmodels \n",
    "# We regress the hourly return and the transaction volume of the \n",
    "# past hour\n",
    "\n",
    "X = np.array(data.volume).reshape(-1,1)**2\n",
    "y = np.array(data.returns).reshape(-1,1)\n",
    "X2 = sm.add_constant(X)\n",
    "est = sm.OLS(y, X2)\n",
    "est2 = est.fit()\n",
    "print(est2.summary())"
   ]
  },
  {
   "cell_type": "code",
   "execution_count": 26,
   "metadata": {},
   "outputs": [],
   "source": [
    "# The results show that there doesn't seem to be a relationship between the two variables"
   ]
  },
  {
   "cell_type": "code",
   "execution_count": 27,
   "metadata": {},
   "outputs": [],
   "source": [
    "# Let's do the same analysis with daily data"
   ]
  },
  {
   "cell_type": "code",
   "execution_count": 73,
   "metadata": {},
   "outputs": [
    {
     "data": {
      "text/html": [
       "<div>\n",
       "<style scoped>\n",
       "    .dataframe tbody tr th:only-of-type {\n",
       "        vertical-align: middle;\n",
       "    }\n",
       "\n",
       "    .dataframe tbody tr th {\n",
       "        vertical-align: top;\n",
       "    }\n",
       "\n",
       "    .dataframe thead th {\n",
       "        text-align: right;\n",
       "    }\n",
       "</style>\n",
       "<table border=\"1\" class=\"dataframe\">\n",
       "  <thead>\n",
       "    <tr style=\"text-align: right;\">\n",
       "      <th></th>\n",
       "      <th>returns</th>\n",
       "      <th>volume</th>\n",
       "      <th>std</th>\n",
       "    </tr>\n",
       "  </thead>\n",
       "  <tbody>\n",
       "    <tr>\n",
       "      <th>0</th>\n",
       "      <td>1.130288</td>\n",
       "      <td>0.240236</td>\n",
       "      <td>2.697856</td>\n",
       "    </tr>\n",
       "    <tr>\n",
       "      <th>1</th>\n",
       "      <td>0.211334</td>\n",
       "      <td>0.015641</td>\n",
       "      <td>0.903661</td>\n",
       "    </tr>\n",
       "    <tr>\n",
       "      <th>2</th>\n",
       "      <td>0.303590</td>\n",
       "      <td>-0.069701</td>\n",
       "      <td>0.900588</td>\n",
       "    </tr>\n",
       "    <tr>\n",
       "      <th>3</th>\n",
       "      <td>0.148912</td>\n",
       "      <td>-0.149062</td>\n",
       "      <td>1.183667</td>\n",
       "    </tr>\n",
       "    <tr>\n",
       "      <th>4</th>\n",
       "      <td>0.061677</td>\n",
       "      <td>-0.161405</td>\n",
       "      <td>0.654348</td>\n",
       "    </tr>\n",
       "  </tbody>\n",
       "</table>\n",
       "</div>"
      ],
      "text/plain": [
       "    returns    volume       std\n",
       "0  1.130288  0.240236  2.697856\n",
       "1  0.211334  0.015641  0.903661\n",
       "2  0.303590 -0.069701  0.900588\n",
       "3  0.148912 -0.149062  1.183667\n",
       "4  0.061677 -0.161405  0.654348"
      ]
     },
     "execution_count": 73,
     "metadata": {},
     "output_type": "execute_result"
    }
   ],
   "source": [
    "# We create a daily data dataframe with the mean returns and volume\n",
    "daily_data = data.resample('D', on='date').mean()\n",
    "\n",
    "# We create also a standard deviation column with the standard deviation of the returns.\n",
    "daily_data.loc[:,'std'] = data.resample('D', on='date')['returns'].std()\n",
    "\n",
    "# We drop the rows with empty values\n",
    "daily_data= daily_data.dropna()\n",
    "\n",
    "# We recreate the index \n",
    "daily_data = daily_data.reset_index(drop=True)\n",
    "daily_data.head()"
   ]
  },
  {
   "cell_type": "code",
   "execution_count": 30,
   "metadata": {},
   "outputs": [
    {
     "name": "stdout",
     "output_type": "stream",
     "text": [
      "                            OLS Regression Results                            \n",
      "==============================================================================\n",
      "Dep. Variable:                returns   R-squared:                       0.006\n",
      "Model:                            OLS   Adj. R-squared:                  0.004\n",
      "Method:                 Least Squares   F-statistic:                     2.635\n",
      "Date:                Sat, 12 Oct 2019   Prob (F-statistic):              0.105\n",
      "Time:                        19:27:53   Log-Likelihood:                 285.23\n",
      "No. Observations:                 434   AIC:                            -566.5\n",
      "Df Residuals:                     432   BIC:                            -558.3\n",
      "Df Model:                           1                                         \n",
      "Covariance Type:            nonrobust                                         \n",
      "==============================================================================\n",
      "                 coef    std err          t      P>|t|      [0.025      0.975]\n",
      "------------------------------------------------------------------------------\n",
      "const          0.0013      0.006      0.211      0.833      -0.011       0.013\n",
      "x1            -0.0347      0.021     -1.623      0.105      -0.077       0.007\n",
      "==============================================================================\n",
      "Omnibus:                      200.694   Durbin-Watson:                   1.609\n",
      "Prob(Omnibus):                  0.000   Jarque-Bera (JB):             4909.708\n",
      "Skew:                           1.414   Prob(JB):                         0.00\n",
      "Kurtosis:                      19.233   Cond. No.                         3.54\n",
      "==============================================================================\n",
      "\n",
      "Warnings:\n",
      "[1] Standard Errors assume that the covariance matrix of the errors is correctly specified.\n"
     ]
    }
   ],
   "source": [
    "# We regress the daily returns and the transaction volume of the past day\n",
    "X = np.array(daily_data.volume).reshape(-1,1)\n",
    "y = daily_data.returns\n",
    "X2 = sm.add_constant(X)\n",
    "est = sm.OLS(y, X2)\n",
    "est2 = est.fit()\n",
    "print(est2.summary())"
   ]
  },
  {
   "cell_type": "code",
   "execution_count": 31,
   "metadata": {
    "scrolled": false
   },
   "outputs": [
    {
     "name": "stdout",
     "output_type": "stream",
     "text": [
      "                            OLS Regression Results                            \n",
      "==============================================================================\n",
      "Dep. Variable:                returns   R-squared:                       0.020\n",
      "Model:                            OLS   Adj. R-squared:                  0.018\n",
      "Method:                 Least Squares   F-statistic:                     9.040\n",
      "Date:                Sat, 12 Oct 2019   Prob (F-statistic):            0.00280\n",
      "Time:                        19:27:53   Log-Likelihood:                 561.17\n",
      "No. Observations:                 434   AIC:                            -1118.\n",
      "Df Residuals:                     432   BIC:                            -1110.\n",
      "Df Model:                           1                                         \n",
      "Covariance Type:            nonrobust                                         \n",
      "==============================================================================\n",
      "                 coef    std err          t      P>|t|      [0.025      0.975]\n",
      "------------------------------------------------------------------------------\n",
      "const          0.0149      0.003      4.655      0.000       0.009       0.021\n",
      "x1             0.0340      0.011      3.007      0.003       0.012       0.056\n",
      "==============================================================================\n",
      "Omnibus:                      936.887   Durbin-Watson:                   1.139\n",
      "Prob(Omnibus):                  0.000   Jarque-Bera (JB):          1579746.822\n",
      "Skew:                          16.108   Prob(JB):                         0.00\n",
      "Kurtosis:                     296.805   Cond. No.                         3.54\n",
      "==============================================================================\n",
      "\n",
      "Warnings:\n",
      "[1] Standard Errors assume that the covariance matrix of the errors is correctly specified.\n"
     ]
    }
   ],
   "source": [
    "# We regress the daily square returns (proxy of volatility) and the transaction volume of the past day\n",
    "# Let's use the python library statsmodels\n",
    "X = np.array(daily_data.volume).reshape(-1,1)\n",
    "y = daily_data.returns**2\n",
    "X2 = sm.add_constant(X)\n",
    "est = sm.OLS(y, X2)\n",
    "est2 = est.fit()\n",
    "print(est2.summary())"
   ]
  },
  {
   "cell_type": "code",
   "execution_count": 32,
   "metadata": {},
   "outputs": [],
   "source": [
    "# The findins are extremely significant"
   ]
  },
  {
   "cell_type": "code",
   "execution_count": 33,
   "metadata": {
    "scrolled": false
   },
   "outputs": [
    {
     "name": "stdout",
     "output_type": "stream",
     "text": [
      "                            OLS Regression Results                            \n",
      "==============================================================================\n",
      "Dep. Variable:                    std   R-squared:                       0.085\n",
      "Model:                            OLS   Adj. R-squared:                  0.083\n",
      "Method:                 Least Squares   F-statistic:                     40.15\n",
      "Date:                Sat, 12 Oct 2019   Prob (F-statistic):           5.91e-10\n",
      "Time:                        19:27:53   Log-Likelihood:                -161.93\n",
      "No. Observations:                 434   AIC:                             327.9\n",
      "Df Residuals:                     432   BIC:                             336.0\n",
      "Df Model:                           1                                         \n",
      "Covariance Type:            nonrobust                                         \n",
      "==============================================================================\n",
      "                 coef    std err          t      P>|t|      [0.025      0.975]\n",
      "------------------------------------------------------------------------------\n",
      "const          0.7362      0.017     43.361      0.000       0.703       0.770\n",
      "x1             0.3794      0.060      6.337      0.000       0.262       0.497\n",
      "==============================================================================\n",
      "Omnibus:                      145.021   Durbin-Watson:                   1.149\n",
      "Prob(Omnibus):                  0.000   Jarque-Bera (JB):              448.765\n",
      "Skew:                           1.559   Prob(JB):                     3.56e-98\n",
      "Kurtosis:                       6.885   Cond. No.                         3.54\n",
      "==============================================================================\n",
      "\n",
      "Warnings:\n",
      "[1] Standard Errors assume that the covariance matrix of the errors is correctly specified.\n"
     ]
    }
   ],
   "source": [
    "# We regress the daily standard deviation of returns and the transaction volume of the day\n",
    "# Let's use the python library statsmodels\n",
    "X = np.array(daily_data.volume).reshape(-1,1)\n",
    "y = daily_data['std']\n",
    "X2 = sm.add_constant(X)\n",
    "est = sm.OLS(y, X2)\n",
    "est2 = est.fit()\n",
    "print(est2.summary())"
   ]
  },
  {
   "cell_type": "code",
   "execution_count": 34,
   "metadata": {},
   "outputs": [],
   "source": [
    "# The findings are extremely significant: \n",
    "# The daily standard deviation is correlated to the transaction volume to binance."
   ]
  },
  {
   "cell_type": "code",
   "execution_count": 35,
   "metadata": {},
   "outputs": [
    {
     "name": "stdout",
     "output_type": "stream",
     "text": [
      "                            OLS Regression Results                            \n",
      "==============================================================================\n",
      "Dep. Variable:                    std   R-squared:                       0.101\n",
      "Model:                            OLS   Adj. R-squared:                  0.097\n",
      "Method:                 Least Squares   F-statistic:                     24.32\n",
      "Date:                Sat, 12 Oct 2019   Prob (F-statistic):           9.85e-11\n",
      "Time:                        19:27:53   Log-Likelihood:                -158.02\n",
      "No. Observations:                 434   AIC:                             322.0\n",
      "Df Residuals:                     431   BIC:                             334.3\n",
      "Df Model:                           2                                         \n",
      "Covariance Type:            nonrobust                                         \n",
      "==============================================================================\n",
      "                 coef    std err          t      P>|t|      [0.025      0.975]\n",
      "------------------------------------------------------------------------------\n",
      "const          0.7356      0.017     43.660      0.000       0.702       0.769\n",
      "x1             0.4044      0.060      6.732      0.000       0.286       0.523\n",
      "x2            -0.0475      0.017     -2.801      0.005      -0.081      -0.014\n",
      "==============================================================================\n",
      "Omnibus:                      139.858   Durbin-Watson:                   1.172\n",
      "Prob(Omnibus):                  0.000   Jarque-Bera (JB):              417.658\n",
      "Skew:                           1.515   Prob(JB):                     2.03e-91\n",
      "Kurtosis:                       6.730   Cond. No.                         3.59\n",
      "==============================================================================\n",
      "\n",
      "Warnings:\n",
      "[1] Standard Errors assume that the covariance matrix of the errors is correctly specified.\n"
     ]
    }
   ],
   "source": [
    "# Although this might be due to the fact that when time passes the coin got more popular so let's regress \n",
    "# also taking into account time. \n",
    "# -> \n",
    "\n",
    "time=np.array( list(range(434))).reshape(-1,1)\n",
    "time=(time-time.mean())/time.std()\n",
    "\n",
    "X=np.concatenate(\n",
    "    (np.array(daily_data.volume).reshape(-1,1),time),\n",
    "    axis=1)\n",
    "y = daily_data['std']\n",
    "X2 = sm.add_constant(X)\n",
    "est = sm.OLS(y, X2)\n",
    "est2 = est.fit()\n",
    "print(est2.summary())"
   ]
  },
  {
   "cell_type": "code",
   "execution_count": 74,
   "metadata": {},
   "outputs": [],
   "source": [
    "# The more time passes, the less standard deviation there is in the returns which is strange but time is not \n",
    "# very explicative"
   ]
  }
 ],
 "metadata": {
  "colab": {
   "name": "Blockchain POLY Data Analysis.ipynb",
   "provenance": []
  },
  "kernelspec": {
   "display_name": "Python 3",
   "language": "python",
   "name": "python3"
  },
  "language_info": {
   "codemirror_mode": {
    "name": "ipython",
    "version": 2
   },
   "file_extension": ".py",
   "mimetype": "text/x-python",
   "name": "python",
   "nbconvert_exporter": "python",
   "pygments_lexer": "ipython2",
   "version": "2.7.16"
  }
 },
 "nbformat": 4,
 "nbformat_minor": 1
}
