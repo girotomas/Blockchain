{
  "nbformat": 4,
  "nbformat_minor": 0,
  "metadata": {
    "colab": {
      "name": "Blockchain get POLY price.ipynb",
      "provenance": []
    },
    "kernelspec": {
      "name": "python3",
      "display_name": "Python 3"
    }
  },
  "cells": [
    {
      "cell_type": "code",
      "metadata": {
        "id": "5thlA5bAHB2t",
        "colab_type": "code",
        "colab": {}
      },
      "source": [
        "import requests\n",
        "import json\n",
        "import pandas as pd\n",
        "import time\n",
        "from datetime import datetime"
      ],
      "execution_count": 0,
      "outputs": []
    },
    {
      "cell_type": "code",
      "metadata": {
        "id": "q5pKyyIAHEj2",
        "colab_type": "code",
        "colab": {}
      },
      "source": [
        "# We make the first request to the API\n",
        "r=requests.get('https://min-api.cryptocompare.com/data/v2/histohour?fsym=POLY&tsym=ETH&limit=2000')"
      ],
      "execution_count": 0,
      "outputs": []
    },
    {
      "cell_type": "code",
      "metadata": {
        "id": "cfWhqASBHGmT",
        "colab_type": "code",
        "colab": {}
      },
      "source": [
        "# We get the data from the response\n",
        "data=json.loads(r.text)"
      ],
      "execution_count": 0,
      "outputs": []
    },
    {
      "cell_type": "code",
      "metadata": {
        "id": "7oXekBeIHMhq",
        "colab_type": "code",
        "colab": {}
      },
      "source": [
        "# We create a dataframe with the data\n",
        "df=pd.DataFrame(data['Data']['Data'])\n",
        "\n",
        "# We compute the earliest timestamp (necessary to call the next query)\n",
        "earliest_timestamp=min(df.time)"
      ],
      "execution_count": 0,
      "outputs": []
    },
    {
      "cell_type": "code",
      "metadata": {
        "id": "MqTzdQtxIU4w",
        "colab_type": "code",
        "colab": {
          "base_uri": "https://localhost:8080/",
          "height": 187
        },
        "outputId": "a585eeea-2ee9-4e23-8acb-b3d4dc1f046c"
      },
      "source": [
        "# While the earliest timestamp is greater than the initial date of our data (August 2018) we make more queries\n",
        "while earliest_timestamp > 1533081600:\n",
        "  r=requests.get('https://min-api.cryptocompare.com/data/v2/histohour?fsym=POLY&tsym=ETH&limit=2000&toTs='+str(earliest_timestamp))\n",
        "  data=json.loads(r.text)\n",
        "  # We append more data\n",
        "  df=df.append(data['Data']['Data'])\n",
        "  # We recompute the earliest timestamp\n",
        "  earliest_timestamp=min(df.time)\n",
        "  print(earliest_timestamp)\n",
        "  print(datetime.utcfromtimestamp(earliest_timestamp).strftime('%Y-%m-%d %H:%M:%S'))\n",
        "  # We wait 3 seconds (not to get the ip banned from the API)\n",
        "  time.sleep(3)"
      ],
      "execution_count": 5,
      "outputs": [
        {
          "output_type": "stream",
          "text": [
            "1556067600\n",
            "2019-04-24 01:00:00\n",
            "1548867600\n",
            "2019-01-30 17:00:00\n",
            "1541667600\n",
            "2018-11-08 09:00:00\n",
            "1534467600\n",
            "2018-08-17 01:00:00\n",
            "1527267600\n",
            "2018-05-25 17:00:00\n"
          ],
          "name": "stdout"
        }
      ]
    },
    {
      "cell_type": "code",
      "metadata": {
        "id": "Aw8XCcLOKOE_",
        "colab_type": "code",
        "colab": {}
      },
      "source": [
        "# We clean the data of duplicates \n",
        "df=df.drop_duplicates()"
      ],
      "execution_count": 0,
      "outputs": []
    },
    {
      "cell_type": "code",
      "metadata": {
        "id": "H_UCV3wfKQcW",
        "colab_type": "code",
        "colab": {}
      },
      "source": [
        "# We convert times to readable times\n",
        "df.loc[:,'time_readable']=df.time.apply(lambda x:datetime.utcfromtimestamp(x).strftime('%Y-%m-%d %H:%M:%S') )"
      ],
      "execution_count": 0,
      "outputs": []
    },
    {
      "cell_type": "code",
      "metadata": {
        "id": "lOMiJbZhLC3I",
        "colab_type": "code",
        "colab": {}
      },
      "source": [
        "# We convert to csv\n",
        "df.to_csv('POLY_price.csv', index=False)"
      ],
      "execution_count": 0,
      "outputs": []
    },
    {
      "cell_type": "code",
      "metadata": {
        "id": "K7jNP_mJLV2I",
        "colab_type": "code",
        "colab": {}
      },
      "source": [
        "# We download the csv file\n",
        "from google.colab import files\n",
        "files.download('POLY_price.csv') "
      ],
      "execution_count": 0,
      "outputs": []
    },
    {
      "cell_type": "code",
      "metadata": {
        "id": "sZ0jrhk_N4dk",
        "colab_type": "code",
        "colab": {
          "base_uri": "https://localhost:8080/",
          "height": 204
        },
        "outputId": "bef680a9-6072-4e49-8b0a-524c4340a9c5"
      },
      "source": [
        "df.head()"
      ],
      "execution_count": 16,
      "outputs": [
        {
          "output_type": "execute_result",
          "data": {
            "text/html": [
              "<div>\n",
              "<style scoped>\n",
              "    .dataframe tbody tr th:only-of-type {\n",
              "        vertical-align: middle;\n",
              "    }\n",
              "\n",
              "    .dataframe tbody tr th {\n",
              "        vertical-align: top;\n",
              "    }\n",
              "\n",
              "    .dataframe thead th {\n",
              "        text-align: right;\n",
              "    }\n",
              "</style>\n",
              "<table border=\"1\" class=\"dataframe\">\n",
              "  <thead>\n",
              "    <tr style=\"text-align: right;\">\n",
              "      <th></th>\n",
              "      <th>close</th>\n",
              "      <th>conversionSymbol</th>\n",
              "      <th>conversionType</th>\n",
              "      <th>high</th>\n",
              "      <th>low</th>\n",
              "      <th>open</th>\n",
              "      <th>time</th>\n",
              "      <th>volumefrom</th>\n",
              "      <th>volumeto</th>\n",
              "      <th>time_readable</th>\n",
              "    </tr>\n",
              "  </thead>\n",
              "  <tbody>\n",
              "    <tr>\n",
              "      <th>0</th>\n",
              "      <td>0.000261</td>\n",
              "      <td></td>\n",
              "      <td>direct</td>\n",
              "      <td>0.000265</td>\n",
              "      <td>0.000255</td>\n",
              "      <td>0.000256</td>\n",
              "      <td>1563267600</td>\n",
              "      <td>5718.77</td>\n",
              "      <td>1.4770</td>\n",
              "      <td>2019-07-16 09:00:00</td>\n",
              "    </tr>\n",
              "    <tr>\n",
              "      <th>1</th>\n",
              "      <td>0.000261</td>\n",
              "      <td></td>\n",
              "      <td>direct</td>\n",
              "      <td>0.000265</td>\n",
              "      <td>0.000258</td>\n",
              "      <td>0.000261</td>\n",
              "      <td>1563271200</td>\n",
              "      <td>2852.24</td>\n",
              "      <td>0.7431</td>\n",
              "      <td>2019-07-16 10:00:00</td>\n",
              "    </tr>\n",
              "    <tr>\n",
              "      <th>2</th>\n",
              "      <td>0.000264</td>\n",
              "      <td></td>\n",
              "      <td>direct</td>\n",
              "      <td>0.000268</td>\n",
              "      <td>0.000261</td>\n",
              "      <td>0.000261</td>\n",
              "      <td>1563274800</td>\n",
              "      <td>12406.03</td>\n",
              "      <td>3.2730</td>\n",
              "      <td>2019-07-16 11:00:00</td>\n",
              "    </tr>\n",
              "    <tr>\n",
              "      <th>3</th>\n",
              "      <td>0.000280</td>\n",
              "      <td></td>\n",
              "      <td>direct</td>\n",
              "      <td>0.000285</td>\n",
              "      <td>0.000264</td>\n",
              "      <td>0.000264</td>\n",
              "      <td>1563278400</td>\n",
              "      <td>36964.20</td>\n",
              "      <td>10.1400</td>\n",
              "      <td>2019-07-16 12:00:00</td>\n",
              "    </tr>\n",
              "    <tr>\n",
              "      <th>4</th>\n",
              "      <td>0.000272</td>\n",
              "      <td></td>\n",
              "      <td>direct</td>\n",
              "      <td>0.000292</td>\n",
              "      <td>0.000272</td>\n",
              "      <td>0.000280</td>\n",
              "      <td>1563282000</td>\n",
              "      <td>79263.42</td>\n",
              "      <td>22.2300</td>\n",
              "      <td>2019-07-16 13:00:00</td>\n",
              "    </tr>\n",
              "  </tbody>\n",
              "</table>\n",
              "</div>"
            ],
            "text/plain": [
              "      close conversionSymbol  ... volumeto        time_readable\n",
              "0  0.000261                   ...   1.4770  2019-07-16 09:00:00\n",
              "1  0.000261                   ...   0.7431  2019-07-16 10:00:00\n",
              "2  0.000264                   ...   3.2730  2019-07-16 11:00:00\n",
              "3  0.000280                   ...  10.1400  2019-07-16 12:00:00\n",
              "4  0.000272                   ...  22.2300  2019-07-16 13:00:00\n",
              "\n",
              "[5 rows x 10 columns]"
            ]
          },
          "metadata": {
            "tags": []
          },
          "execution_count": 16
        }
      ]
    },
    {
      "cell_type": "code",
      "metadata": {
        "id": "jTCrlC7lN6Mg",
        "colab_type": "code",
        "colab": {}
      },
      "source": [
        ""
      ],
      "execution_count": 0,
      "outputs": []
    }
  ]
}