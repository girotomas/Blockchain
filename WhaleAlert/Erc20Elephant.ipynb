{
 "cells": [
  {
   "cell_type": "code",
   "execution_count": 1,
   "metadata": {},
   "outputs": [],
   "source": [
    "import requests\n",
    "import re\n",
    "import time\n",
    "import json\n",
    "import pandas as pd"
   ]
  },
  {
   "cell_type": "code",
   "execution_count": 246,
   "metadata": {},
   "outputs": [],
   "source": [
    "import twitter\n",
    "api = twitter.Api(consumer_key='UlwUFuQEQggWh144h2Tw2YGb9',\n",
    "                      consumer_secret='nQDMPRol2e7ypItxPvG2wL4xkE4XZXrPBcwKvToU0IyiBDYiOF',\n",
    "                      access_token_key='2377369042-V5IvDa8HH5K2gRLJ4tkYvPt3kXtC15xDYEFTpIV',\n",
    "                      access_token_secret='3ZqbZ7NB0r57tNThW8xUKujgg0rxB1sjTUcxIvNZsfUPt')\n",
    "def postMessage(message):\n",
    "    status = api.PostUpdate(message, in_reply_to_status_id='1188011716220784640')"
   ]
  },
  {
   "cell_type": "code",
   "execution_count": 254,
   "metadata": {},
   "outputs": [],
   "source": [
    "def alertNow(amount):\n",
    "    '''alerts if the last 50 transactions passed the amount\n",
    "    '''\n",
    "    def computeDataFrame():\n",
    "        def getData():\n",
    "            '''Gets the transaction info for the last transactions.'''\n",
    "            regex = r'''\\/tx\\/(?P<txnHash>0x[\\da-z].+?)'.*?title='.*?'>(?P<date>[^<]+?)<.*?\\/address\\/(?P<from>0x[\\da-z]+?)(?:#|').*?\\/address\\/(?P<to>0x[\\da-z]+?)(?:#|').*?<td>(?P<value>[\\d\\.,]+?)<.*?\\/token\\/(?P<token>0x[\\da-z]+?)'.*?>([^>]*?)\\(([^\\)<>]*?)\\)'''\n",
    "            headers = {'User-Agent': 'Mozilla/5.0 (Macintosh; Intel Mac OS X 10_10_1) AppleWebKit/537.36 (KHTML, like Gecko) Chrome/39.0.2171.95 Safari/537.36'}\n",
    "            r = requests.get('https://etherscan.io/tokentxns', headers=headers)\n",
    "            text = r.text\n",
    "            res = re.findall(regex, text)\n",
    "            data =  pd.DataFrame(res ,columns = ['hash','date', 'from','to','value','token', 'name', 'initials'])\n",
    "            data.loc[:,'value'] = data.value.apply(lambda x: float(x.replace(',','')))\n",
    "            return data\n",
    "        data = getData()\n",
    "        def queryPrice(tokenArray):\n",
    "            ''' Gets the price of the tokens in the tokenArray'''\n",
    "            def getPriceSmall(tokenArray):\n",
    "                r = requests.get('https://min-api.cryptocompare.com/data/pricemulti?fsyms={}&tsyms=USD'.format(','.join(tokenArray)))\n",
    "                text = r.text\n",
    "                return text\n",
    "            tokenArray = list(set(data.initials[:50]))\n",
    "            tokenArrays = [tokenArray[i*30:(i+1)*30] for i in range(len(tokenArray)//30+1)]\n",
    "            res = {}\n",
    "            for array in tokenArrays:\n",
    "                small_res = json.loads(getPriceSmall(array))\n",
    "                res.update(small_res)\n",
    "            res = {k: v['USD'] for k, v in res.items()}   \n",
    "            return res\n",
    "        prices = queryPrice(data.initials)  \n",
    "        def getPrice(x):\n",
    "            if x in prices.keys():\n",
    "                return prices[x]\n",
    "        data.loc[:,'AmountUSD']= data.initials.apply(getPrice) * data.value\n",
    "        return data\n",
    "    data = computeDataFrame()\n",
    "    bigTrans = data.loc[data['AmountUSD']>=amount]\n",
    "    if len(bigTrans):\n",
    "        messages = []\n",
    "        for i, row in bigTrans.iterrows():\n",
    "                message = 'Big Transaction Detected ! at {}, from {} to {} with a value of {}{} ({}) which is around {:.0f} USD. #ERC20Elephant'.format(\n",
    "                    row.date, row['from'] , row.to, row.value, row.name, row.initials, row.AmountUSD)  \n",
    "                messages += [message]\n",
    "        return messages\n",
    "    return False"
   ]
  },
  {
   "cell_type": "code",
   "execution_count": null,
   "metadata": {},
   "outputs": [
    {
     "name": "stdout",
     "output_type": "stream",
     "text": [
      "['Big Transaction Detected ! at 2019-10-26 13:56:37, from 0x6cc5f688a315f3dc28a7781717a9a798a59fda7b to 0xd7533c972f92189b651a8258124241f94bd8d122 with a value of 200000.025 (USDT) which is around 200800 USD. #ERC20Elephant', 'Big Transaction Detected ! at 2019-10-26 13:56:28, from 0xea5ee32f3a63c3fabb311c6e8c985d308a53dcc1 to 0xf5dce57282a584d2746faf1593d3121fcac444dc with a value of 231921.66294849 (DAI) which is around 238415 USD. #ERC20Elephant']\n",
      "('Connection aborted.', error(\"(104, 'ECONNRESET')\",))\n",
      "Traceback (most recent call last):\n",
      "  File \"<ipython-input-256-be99eac69f3f>\", line 9, in <module>\n",
      "    postMessage(mes)\n",
      "  File \"<ipython-input-246-65655672fbcf>\", line 7, in postMessage\n",
      "    status = api.PostUpdate(message, in_reply_to_status_id='1188011716220784640')\n",
      "  File \"/home/tomas/anaconda3/lib/python2.7/site-packages/twitter/api.py\", line 1176, in PostUpdate\n",
      "    resp = self._RequestUrl(url, 'POST', data=parameters)\n",
      "  File \"/home/tomas/anaconda3/lib/python2.7/site-packages/twitter/api.py\", line 4983, in _RequestUrl\n",
      "    resp = self._session.post(url, data=data, auth=self.__auth, timeout=self._timeout, proxies=self.proxies)\n",
      "  File \"/home/tomas/.local/lib/python2.7/site-packages/requests/sessions.py\", line 555, in post\n",
      "    return self.request('POST', url, data=data, json=json, **kwargs)\n",
      "  File \"/home/tomas/.local/lib/python2.7/site-packages/requests/sessions.py\", line 508, in request\n",
      "    resp = self.send(prep, **send_kwargs)\n",
      "  File \"/home/tomas/.local/lib/python2.7/site-packages/requests/sessions.py\", line 618, in send\n",
      "    r = adapter.send(request, **kwargs)\n",
      "  File \"/home/tomas/.local/lib/python2.7/site-packages/requests/adapters.py\", line 490, in send\n",
      "    raise ConnectionError(err, request=request)\n",
      "ConnectionError: ('Connection aborted.', error(\"(104, 'ECONNRESET')\",))\n",
      "\n",
      "['Big Transaction Detected ! at 2019-10-26 13:56:37, from 0x6cc5f688a315f3dc28a7781717a9a798a59fda7b to 0xd7533c972f92189b651a8258124241f94bd8d122 with a value of 200000.025 (USDT) which is around 200800 USD. #ERC20Elephant', 'Big Transaction Detected ! at 2019-10-26 13:56:28, from 0xea5ee32f3a63c3fabb311c6e8c985d308a53dcc1 to 0xf5dce57282a584d2746faf1593d3121fcac444dc with a value of 231921.66294848 (DAI) which is around 239111 USD. #ERC20Elephant']\n",
      "['Big Transaction Detected ! at 2019-10-26 13:56:37, from 0x6cc5f688a315f3dc28a7781717a9a798a59fda7b to 0xd7533c972f92189b651a8258124241f94bd8d122 with a value of 200000.027 (USDT) which is around 200800 USD. #ERC20Elephant']\n",
      "['Big Transaction Detected ! at 2019-10-26 13:58:13, from 0x6286b9f080d27f860f6b4bb0226f8ef06cc9f2fc to 0xccfb31e0a10259d27ca35a75317431ae96406171 with a value of 500000.02 (USDT) which is around 502000 USD. #ERC20Elephant']\n",
      "string indices must be integers\n",
      "Traceback (most recent call last):\n",
      "  File \"<ipython-input-256-be99eac69f3f>\", line 5, in <module>\n",
      "    messages = alertNow(1e5)\n",
      "  File \"<ipython-input-254-050504d1f4da>\", line 36, in alertNow\n",
      "    data = computeDataFrame()\n",
      "  File \"<ipython-input-254-050504d1f4da>\", line 30, in computeDataFrame\n",
      "    prices = queryPrice(data.initials)\n",
      "  File \"<ipython-input-254-050504d1f4da>\", line 28, in queryPrice\n",
      "    res = {k: v['USD'] for k, v in res.items()}\n",
      "  File \"<ipython-input-254-050504d1f4da>\", line 28, in <dictcomp>\n",
      "    res = {k: v['USD'] for k, v in res.items()}\n",
      "TypeError: string indices must be integers\n",
      "\n",
      "['Big Transaction Detected ! at 2019-10-26 14:08:51, from 0xbe0725dda46e7e0524d90739c15a0d6fa695124a to 0xeee28d484628d41a82d01e21d12e2e78d69920da with a value of 100000.011 (USDT) which is around 100400 USD. #ERC20Elephant', 'Big Transaction Detected ! at 2019-10-26 14:08:51, from 0xf607dcba2a0f3d57a021af9548d09eb6c0d991dc to 0x0a98fb70939162725ae66e626fe4b52cff62c2e5 with a value of 100000.012 (USDT) which is around 100400 USD. #ERC20Elephant']\n",
      "['Big Transaction Detected ! at 2019-10-26 14:10:42, from 0x85d335a04b00aa9c627093dfd62517d7ef5600bc to 0xdac29f6b578985170554402f05b5f86857665316 with a value of 106764.015 (USDT) which is around 107298 USD. #ERC20Elephant']\n",
      "['Big Transaction Detected ! at 2019-10-26 14:13:33, from 0x3f5ce5fbfe3e9af3971dd833d26ba9b5c936f0be to 0x3bd2bcb430a6783d170fe23ee7893e8b48d3c5a3 with a value of 150000.8825 (USDT) which is around 150601 USD. #ERC20Elephant', 'Big Transaction Detected ! at 2019-10-26 14:13:33, from 0x564286362092d8e7936f0549571a803b203aaced to 0x4acd651fb5eeab63c4e09b74e311047d45336be2 with a value of 165467.8831 (USDT) which is around 166130 USD. #ERC20Elephant']\n",
      "['Big Transaction Detected ! at 2019-10-26 14:14:42, from 0x6cc5f688a315f3dc28a7781717a9a798a59fda7b to 0x19b0f54de434552eb632e8a50c8d9c5e0cd316ad with a value of 150000.031 (USDT) which is around 150600 USD. #ERC20Elephant']\n"
     ]
    }
   ],
   "source": [
    "import traceback\n",
    "\n",
    "while True:\n",
    "    try:\n",
    "        messages = alertNow(1e5)\n",
    "        if messages:\n",
    "            print(messages)\n",
    "            for mes in messages:\n",
    "                postMessage(mes)\n",
    "    except Exception as e:\n",
    "        print(e)\n",
    "        print(traceback.format_exc())\n",
    "    time.sleep(30)"
   ]
  },
  {
   "cell_type": "code",
   "execution_count": null,
   "metadata": {},
   "outputs": [],
   "source": []
  }
 ],
 "metadata": {
  "kernelspec": {
   "display_name": "Python 3",
   "language": "python",
   "name": "python3"
  },
  "language_info": {
   "codemirror_mode": {
    "name": "ipython",
    "version": 2
   },
   "file_extension": ".py",
   "mimetype": "text/x-python",
   "name": "python",
   "nbconvert_exporter": "python",
   "pygments_lexer": "ipython2",
   "version": "2.7.16"
  }
 },
 "nbformat": 4,
 "nbformat_minor": 2
}
